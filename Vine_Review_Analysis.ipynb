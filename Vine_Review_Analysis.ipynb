{
  "nbformat": 4,
  "nbformat_minor": 0,
  "metadata": {
    "colab": {
      "name": "Vine_Review_Analysis.ipynb",
      "provenance": [],
      "collapsed_sections": []
    },
    "kernelspec": {
      "name": "python3",
      "display_name": "Python 3"
    },
    "language_info": {
      "name": "python"
    }
  },
  "cells": [
    {
      "cell_type": "code",
      "execution_count": 1,
      "metadata": {
        "colab": {
          "base_uri": "https://localhost:8080/"
        },
        "id": "HqRJG9Kju7Lb",
        "outputId": "560c40d1-56d9-423b-ee95-b3ff55af6423"
      },
      "outputs": [
        {
          "output_type": "stream",
          "name": "stdout",
          "text": [
            "\r0% [Working]\r            \rHit:1 http://archive.ubuntu.com/ubuntu bionic InRelease\n",
            "\r0% [Waiting for headers] [Connecting to security.ubuntu.com (185.125.190.39)] [\r                                                                               \rGet:2 http://archive.ubuntu.com/ubuntu bionic-updates InRelease [88.7 kB]\n",
            "\r                                                                               \rGet:3 http://archive.ubuntu.com/ubuntu bionic-backports InRelease [74.6 kB]\n",
            "Get:4 https://cloud.r-project.org/bin/linux/ubuntu bionic-cran40/ InRelease [3,626 B]\n",
            "Ign:5 https://developer.download.nvidia.com/compute/cuda/repos/ubuntu1804/x86_64  InRelease\n",
            "Get:6 http://ppa.launchpad.net/c2d4u.team/c2d4u4.0+/ubuntu bionic InRelease [15.9 kB]\n",
            "Get:7 http://security.ubuntu.com/ubuntu bionic-security InRelease [88.7 kB]\n",
            "Ign:8 https://developer.download.nvidia.com/compute/machine-learning/repos/ubuntu1804/x86_64  InRelease\n",
            "Get:9 https://developer.download.nvidia.com/compute/cuda/repos/ubuntu1804/x86_64  Release [696 B]\n",
            "Hit:10 https://developer.download.nvidia.com/compute/machine-learning/repos/ubuntu1804/x86_64  Release\n",
            "Get:11 https://developer.download.nvidia.com/compute/cuda/repos/ubuntu1804/x86_64  Release.gpg [836 B]\n",
            "Hit:12 http://ppa.launchpad.net/cran/libgit2/ubuntu bionic InRelease\n",
            "Get:13 http://ppa.launchpad.net/deadsnakes/ppa/ubuntu bionic InRelease [15.9 kB]\n",
            "Get:14 http://ppa.launchpad.net/graphics-drivers/ppa/ubuntu bionic InRelease [21.3 kB]\n",
            "Get:15 http://archive.ubuntu.com/ubuntu bionic-updates/restricted amd64 Packages [918 kB]\n",
            "Get:16 http://archive.ubuntu.com/ubuntu bionic-updates/main amd64 Packages [3,132 kB]\n",
            "Get:17 http://archive.ubuntu.com/ubuntu bionic-updates/universe amd64 Packages [2,264 kB]\n",
            "Get:18 http://archive.ubuntu.com/ubuntu bionic-updates/multiverse amd64 Packages [29.8 kB]\n",
            "Get:19 https://cloud.r-project.org/bin/linux/ubuntu bionic-cran40/ Packages [80.8 kB]\n",
            "Get:20 http://archive.ubuntu.com/ubuntu bionic-backports/universe amd64 Packages [12.9 kB]\n",
            "Get:21 http://archive.ubuntu.com/ubuntu bionic-backports/main amd64 Packages [12.2 kB]\n",
            "Get:22 http://ppa.launchpad.net/c2d4u.team/c2d4u4.0+/ubuntu bionic/main Sources [1,830 kB]\n",
            "Get:24 https://developer.download.nvidia.com/compute/cuda/repos/ubuntu1804/x86_64  Packages [950 kB]\n",
            "Get:25 http://ppa.launchpad.net/c2d4u.team/c2d4u4.0+/ubuntu bionic/main amd64 Packages [937 kB]\n",
            "Get:26 http://security.ubuntu.com/ubuntu bionic-security/main amd64 Packages [2,693 kB]\n",
            "Get:27 http://security.ubuntu.com/ubuntu bionic-security/restricted amd64 Packages [884 kB]\n",
            "Get:28 http://ppa.launchpad.net/deadsnakes/ppa/ubuntu bionic/main amd64 Packages [45.3 kB]\n",
            "Get:29 http://security.ubuntu.com/ubuntu bionic-security/universe amd64 Packages [1,486 kB]\n",
            "Get:30 http://ppa.launchpad.net/graphics-drivers/ppa/ubuntu bionic/main amd64 Packages [44.3 kB]\n",
            "Fetched 15.6 MB in 6s (2,532 kB/s)\n",
            "Reading package lists... Done\n"
          ]
        }
      ],
      "source": [
        "import os\n",
        "# Find the latest version of spark 3.0 from http://www.apache.org/dist/spark/ and enter as the spark version\n",
        "# For example:\n",
        "# spark_version = 'spark-3.0.3'\n",
        "spark_version = 'spark-3.0.3'\n",
        "os.environ['SPARK_VERSION']=spark_version\n",
        "\n",
        "# Install Spark and Java\n",
        "!apt-get update\n",
        "!apt-get install openjdk-11-jdk-headless -qq > /dev/null\n",
        "!wget -q http://www.apache.org/dist/spark/$SPARK_VERSION/$SPARK_VERSION-bin-hadoop2.7.tgz\n",
        "!tar xf $SPARK_VERSION-bin-hadoop2.7.tgz\n",
        "!pip install -q findspark\n",
        "\n",
        "# Set Environment Variables\n",
        "import os\n",
        "os.environ[\"JAVA_HOME\"] = \"/usr/lib/jvm/java-11-openjdk-amd64\"\n",
        "os.environ[\"SPARK_HOME\"] = f\"/content/{spark_version}-bin-hadoop2.7\"\n",
        "\n",
        "# Start a SparkSession\n",
        "import findspark\n",
        "findspark.init()"
      ]
    },
    {
      "cell_type": "code",
      "source": [
        "# Download the Postgres driver that will allow Spark to interact with Postgres.\n",
        "!wget https://jdbc.postgresql.org/download/postgresql-42.2.16.jar"
      ],
      "metadata": {
        "colab": {
          "base_uri": "https://localhost:8080/"
        },
        "id": "6uhf_ZQPvxsL",
        "outputId": "4bdd3d55-443a-4617-f15d-1f4e4eddf18a"
      },
      "execution_count": 2,
      "outputs": [
        {
          "output_type": "stream",
          "name": "stdout",
          "text": [
            "--2022-04-03 18:47:50--  https://jdbc.postgresql.org/download/postgresql-42.2.16.jar\n",
            "Resolving jdbc.postgresql.org (jdbc.postgresql.org)... 72.32.157.228, 2001:4800:3e1:1::228\n",
            "Connecting to jdbc.postgresql.org (jdbc.postgresql.org)|72.32.157.228|:443... connected.\n",
            "HTTP request sent, awaiting response... 200 OK\n",
            "Length: 1002883 (979K) [application/java-archive]\n",
            "Saving to: ‘postgresql-42.2.16.jar’\n",
            "\n",
            "postgresql-42.2.16. 100%[===================>] 979.38K  5.73MB/s    in 0.2s    \n",
            "\n",
            "2022-04-03 18:47:50 (5.73 MB/s) - ‘postgresql-42.2.16.jar’ saved [1002883/1002883]\n",
            "\n"
          ]
        }
      ]
    },
    {
      "cell_type": "code",
      "source": [
        "from pyspark.sql import SparkSession\n",
        "spark = SparkSession.builder.appName(\"M16-Amazon-Challenge\").config(\"spark.driver.extraClassPath\",\"/content/postgresql-42.2.16.jar\").getOrCreate()"
      ],
      "metadata": {
        "id": "Xued5ZxEv5j9"
      },
      "execution_count": 3,
      "outputs": []
    },
    {
      "cell_type": "code",
      "source": [
        "from pyspark import SparkFiles\n",
        "url = \"https://s3.amazonaws.com/amazon-reviews-pds/tsv/amazon_reviews_us_Toys_v1_00.tsv.gz\"\n",
        "spark.sparkContext.addFile(url)\n",
        "df = spark.read.option(\"encoding\", \"UTF-8\").csv(SparkFiles.get(\"\"), sep=\"\\t\", header=True, inferSchema=True)\n",
        "df.show()"
      ],
      "metadata": {
        "colab": {
          "base_uri": "https://localhost:8080/"
        },
        "id": "LFuQjdDGv77P",
        "outputId": "b130f448-5528-489d-fd35-d7bfb3616c39"
      },
      "execution_count": 4,
      "outputs": [
        {
          "output_type": "stream",
          "name": "stdout",
          "text": [
            "+-----------+-----------+--------------+----------+--------------+--------------------+----------------+-----------+-------------+-----------+----+-----------------+--------------------+--------------------+-----------+\n",
            "|marketplace|customer_id|     review_id|product_id|product_parent|       product_title|product_category|star_rating|helpful_votes|total_votes|vine|verified_purchase|     review_headline|         review_body|review_date|\n",
            "+-----------+-----------+--------------+----------+--------------+--------------------+----------------+-----------+-------------+-----------+----+-----------------+--------------------+--------------------+-----------+\n",
            "|         US|   18778586| RDIJS7QYB6XNR|B00EDBY7X8|     122952789|Monopoly Junior B...|            Toys|          5|            0|          0|   N|                Y|          Five Stars|        Excellent!!!| 2015-08-31|\n",
            "|         US|   24769659|R36ED1U38IELG8|B00D7JFOPC|     952062646|56 Pieces of Wood...|            Toys|          5|            0|          0|   N|                Y|Good quality trac...|Great quality woo...| 2015-08-31|\n",
            "|         US|   44331596| R1UE3RPRGCOLD|B002LHA74O|     818126353|Super Jumbo Playi...|            Toys|          2|            1|          1|   N|                Y|           Two Stars|Cards are not as ...| 2015-08-31|\n",
            "|         US|   23310293|R298788GS6I901|B00ARPLCGY|     261944918|Barbie Doll and F...|            Toys|          5|            0|          0|   N|                Y|my daughter loved...|my daughter loved...| 2015-08-31|\n",
            "|         US|   38745832|  RNX4EXOBBPN5|B00UZOPOFW|     717410439|Emazing Lights eL...|            Toys|          1|            1|          1|   N|                Y|     DONT BUY THESE!|Do not buy these!...| 2015-08-31|\n",
            "|         US|   13394189|R3BPETL222LMIM|B009B7F6CA|     873028700|Melissa & Doug Wa...|            Toys|          5|            0|          0|   N|                Y|          Five Stars|Great item. Pictu...| 2015-08-31|\n",
            "|         US|    2749569|R3SORMPJZO3F2J|B0101EHRSM|     723424342|Big Bang Cosmic P...|            Toys|          3|            2|          2|   N|                Y|         Three Stars|To keep together,...| 2015-08-31|\n",
            "|         US|   41137196|R2RDOJQ0WBZCF6|B00407S11Y|     383363775|Fun Express Insec...|            Toys|          5|            0|          0|   N|                Y|          Five Stars|I was pleased wit...| 2015-08-31|\n",
            "|         US|     433677|R2B8VBEPB4YEZ7|B00FGPU7U2|     780517568|Fisher-Price Octo...|            Toys|          5|            0|          0|   N|                Y|          Five Stars|    Children like it| 2015-08-31|\n",
            "|         US|    1297934|R1CB783I7B0U52|B0013OY0S0|     269360126|Claw Climber Goli...|            Toys|          1|            0|          1|   N|                Y|Shame on the sell...|Showed up not how...| 2015-08-31|\n",
            "|         US|   52006292| R2D90RQQ3V8LH|B00519PJTW|     493486387|100 Foot Multicol...|            Toys|          5|            0|          0|   N|                Y|          Five Stars|Really liked thes...| 2015-08-31|\n",
            "|         US|   32071052|R1Y4ZOUGFMJ327|B001TCY2DO|     459122467|Pig Jumbo Foil Ba...|            Toys|          5|            0|          0|   N|                Y|   Nice huge balloon|Nice huge balloon...| 2015-08-31|\n",
            "|         US|    7360347|R2BUV9QJI2A00X|B00DOQCWF8|     226984155|Minecraft Animal ...|            Toys|          5|            0|          1|   N|                Y|          Five Stars|          Great deal| 2015-08-31|\n",
            "|         US|   11613707| RSUHRJFJIRB3Z|B004C04I4I|     375659886|Disney Baby: Eeyo...|            Toys|          4|            0|          0|   N|                Y|          Four Stars|       As Advertised| 2015-08-31|\n",
            "|         US|   13545982|R1T96CG98BBA15|B00NWGEKBY|     933734136|Team Losi 8IGHT-E...|            Toys|          3|            2|          4|   N|                Y|... servo so expe...|Comes w a 15$ ser...| 2015-08-31|\n",
            "|         US|   43880421| R2ATXF4QQ30YW|B00000JS5S|     341842639|Hot Wheels 48- Ca...|            Toys|          5|            0|          0|   N|                Y|          Five Stars|   awesome ! Thanks!| 2015-08-31|\n",
            "|         US|    1662075|R1YS3DS218NNMD|B00XPWXYDK|     210135375|ZuZo 2.4GHz 4 CH ...|            Toys|          5|            4|          4|   N|                N|The closest relev...|I got this item f...| 2015-08-31|\n",
            "|         US|   18461411|R2SDXLTLF92O0H|B00VPXX92W|     705054378|Teenage Mutant Ni...|            Toys|          5|            0|          0|   N|                Y|          Five Stars|It was a birthday...| 2015-08-31|\n",
            "|         US|   27225859| R4R337CCDWLNG|B00YRA3H4U|     223420727|Franklin Sports M...|            Toys|          3|            0|          1|   Y|                N|Got wrong product...|Got a wrong produ...| 2015-08-31|\n",
            "|         US|   20494593|R32Z6UA4S5Q630|B009T8BSQY|     787701676|Alien Frontiers: ...|            Toys|          1|            0|          0|   N|                Y|         Overpriced.|You need expansio...| 2015-08-31|\n",
            "+-----------+-----------+--------------+----------+--------------+--------------------+----------------+-----------+-------------+-----------+----+-----------------+--------------------+--------------------+-----------+\n",
            "only showing top 20 rows\n",
            "\n"
          ]
        }
      ]
    },
    {
      "cell_type": "code",
      "source": [
        "#Filter the data and create a new DataFrame or table to retrieve all the rows where the total_votes count is equal to or greater than 20 to pick reviews that are more likely to be helpful and to avoid having division by zero errors later on.\n",
        "\n",
        "greaterthan20_df = df.filter(\"total_votes >= 20\")\n",
        "greaterthan20_df.show()\n",
        "\n",
        "\n",
        "\n",
        "\n"
      ],
      "metadata": {
        "colab": {
          "base_uri": "https://localhost:8080/"
        },
        "id": "yH6rvJIryTfi",
        "outputId": "5d99b1fa-ecd8-43a8-b0f0-eeb72c672f85"
      },
      "execution_count": 6,
      "outputs": [
        {
          "output_type": "stream",
          "name": "stdout",
          "text": [
            "+-----------+-----------+--------------+----------+--------------+--------------------+----------------+-----------+-------------+-----------+----+-----------------+--------------------+--------------------+-----------+\n",
            "|marketplace|customer_id|     review_id|product_id|product_parent|       product_title|product_category|star_rating|helpful_votes|total_votes|vine|verified_purchase|     review_headline|         review_body|review_date|\n",
            "+-----------+-----------+--------------+----------+--------------+--------------------+----------------+-----------+-------------+-----------+----+-----------------+--------------------+--------------------+-----------+\n",
            "|         US|   11025729| ROP6ITXO8K5V2|B00LE9MZMW|     778942419|YJ Moyu 13x13x13 ...|            Toys|          5|           23|         27|   N|                Y|          Five Stars|Great cube, moves...| 2015-08-31|\n",
            "|         US|   50123725|R3ND1LVU7AXCVF|B00LOV24VC|     363255349|Marshmallow Furni...|            Toys|          1|           21|         21|   N|                Y|If you want a qua...|i bought this cha...| 2015-08-31|\n",
            "|         US|   53067113| R9I5FOLKU99RY|B00U1KA12G|     278300201|Qixels S1 Turbo D...|            Toys|          5|           19|         20|   Y|                N|11 Year Old Loves...|My daughter who i...| 2015-08-31|\n",
            "|         US|   44167324|R1QS8AOD6HX3ED|B011BWUDGG|     501779560|Leray Self Balanc...|            Toys|          4|           59|         81|   N|                N|   Solid warranty...|[[VIDEOID:164d1b1...| 2015-08-31|\n",
            "|         US|   44759540|R3ED60RC69CCQ6|B00VJKTLMS|     917726757|Fisher-Price Nick...|            Toys|          5|           22|         23|   Y|                N|Lots of fun if yo...|This toy is a kno...| 2015-08-31|\n",
            "|         US|   13738051|R2MDI1TP46VSYD|B00IF1VYEW|     392025139|PLAYMOBIL Royal L...|            Toys|          3|            9|         21|   N|                Y|Once put together...|Once put together...| 2015-08-31|\n",
            "|         US|   43450674|R2JM687C525WR9|B00KH6BQJG|     116308869|OgoSport OgoBild ...|            Toys|          3|           33|         33|   Y|                N|Not bad, but we t...|cWe've had the Hu...| 2015-08-31|\n",
            "|         US|   38209184|R2LWX4TZ67FWPT|B00IYOCSE0|     825711912|Flexible Flyer Pl...|            Toys|          4|           50|         50|   N|                N|its a great swing...|its a great swing...| 2015-08-31|\n",
            "|         US|    7719843|R29IYHPYD14AGI|B000F3V2MW|     253592398|ALEX Toys Craft M...|            Toys|          3|           84|         84|   N|                Y|    preteen projects|I purchased this ...| 2015-08-31|\n",
            "|         US|   32035019|R1F2I723WRK5QV|B00YU88U6O|     480317972|SueSport 4-way Tu...|            Toys|          5|           20|         20|   N|                Y| Great for big cats!|Bought this for m...| 2015-08-31|\n",
            "|         US|   21817391| RRO8C1IVZMD6H|B011KD5CGW|     984270738|Playskool Heroes ...|            Toys|          5|           22|         22|   N|                N|Rescan line is sm...|When buying rescu...| 2015-08-31|\n",
            "|         US|   16379976|R2GHOWIWDVLN18|B00X9JDPYC|     681351265|UDI HD+ Drone wit...|            Toys|          1|           28|         36|   N|                Y|            One Star|The damn thing fl...| 2015-08-31|\n",
            "|         US|   28820853|R30PJ9XUHFTY5D|B003VYAJMG|     103705238|Little Tikes Bold...|            Toys|          5|           42|         43|   N|                N|My Granddaughter ...|My 18 month old g...| 2015-08-31|\n",
            "|         US|   35645071| RK12D8DTG4G82|B013JSIUQK|     709321322|Magic: the Gather...|            Toys|          5|            5|         22|   N|                N|    Sweet box to buy|That first review...| 2015-08-31|\n",
            "|         US|    9988621|R2F7D9N3SSQC20|B00YI1CHHG|     150124290|CloudPets 12in - ...|            Toys|          4|           32|         34|   N|                N|My daughter and I...|This bear is incr...| 2015-08-31|\n",
            "|         US|   27803490| RN4VK9FV66YPS|B00WJ1O76G|     701543085|LeapFrog Number L...|            Toys|          5|           29|         33|   N|                N|         LOVE THIS!!|[[VIDEOID:9050e95...| 2015-08-31|\n",
            "|         US|   50970965|R18T8SFBDXAKSY|B002TLDRI0|     198159965|JIGBOARD 1500 - J...|            Toys|          5|           95|         95|   N|                Y|Love it. With fiv...|Love it.  With fi...| 2015-08-31|\n",
            "|         US|    8109655|R36SKVJXZ0I98A|8499000606|     536492553|Syma S107/S107G R...|            Toys|          5|          124|        127|   N|                N|Nice, light weigh...|The Syma Helicopt...| 2015-08-31|\n",
            "|         US|   23579166| RJDIWMOZT0EGZ|B010TUEMOA|     477493851|Warhammer Age of ...|            Toys|          1|           11|         27|   N|                N|       waste of time|Overpriced and un...| 2015-08-31|\n",
            "|         US|     182750|R3PAIHQSO707G4|B010TU7LP2|       3331341|Exploding Kittens...|            Toys|          5|          189|        221|   N|                N|NSFW = NOT SAFE F...|Exploding Kittens...| 2015-08-31|\n",
            "+-----------+-----------+--------------+----------+--------------+--------------------+----------------+-----------+-------------+-----------+----+-----------------+--------------------+--------------------+-----------+\n",
            "only showing top 20 rows\n",
            "\n"
          ]
        }
      ]
    },
    {
      "cell_type": "code",
      "source": [
        "print(greaterthan20_df.count())\n"
      ],
      "metadata": {
        "colab": {
          "base_uri": "https://localhost:8080/"
        },
        "id": "lgKwc92Z0y-M",
        "outputId": "aa17a3eb-c6bd-40f1-a473-4e77d8536d3c"
      },
      "execution_count": 9,
      "outputs": [
        {
          "output_type": "stream",
          "name": "stdout",
          "text": [
            "70474\n"
          ]
        }
      ]
    },
    {
      "cell_type": "code",
      "source": [
        "#Filter the new DataFrame or table created in Step 1 and create a new DataFrame or table to retrieve all the rows where the number of helpful_votes divided by total_votes is equal to or greater than 50%. \n",
        "helpfulgreaterthan50_df = greaterthan20_df.filter(\"helpful_votes/total_votes>=.50\")\n",
        "helpfulgreaterthan50_df.show()\n"
      ],
      "metadata": {
        "colab": {
          "base_uri": "https://localhost:8080/"
        },
        "id": "WBF-Y9bzz5Ni",
        "outputId": "8c04cf58-6b3c-449b-9fe5-55d8e5f71cdf"
      },
      "execution_count": 8,
      "outputs": [
        {
          "output_type": "stream",
          "name": "stdout",
          "text": [
            "+-----------+-----------+--------------+----------+--------------+--------------------+----------------+-----------+-------------+-----------+----+-----------------+--------------------+--------------------+-----------+\n",
            "|marketplace|customer_id|     review_id|product_id|product_parent|       product_title|product_category|star_rating|helpful_votes|total_votes|vine|verified_purchase|     review_headline|         review_body|review_date|\n",
            "+-----------+-----------+--------------+----------+--------------+--------------------+----------------+-----------+-------------+-----------+----+-----------------+--------------------+--------------------+-----------+\n",
            "|         US|   11025729| ROP6ITXO8K5V2|B00LE9MZMW|     778942419|YJ Moyu 13x13x13 ...|            Toys|          5|           23|         27|   N|                Y|          Five Stars|Great cube, moves...| 2015-08-31|\n",
            "|         US|   50123725|R3ND1LVU7AXCVF|B00LOV24VC|     363255349|Marshmallow Furni...|            Toys|          1|           21|         21|   N|                Y|If you want a qua...|i bought this cha...| 2015-08-31|\n",
            "|         US|   53067113| R9I5FOLKU99RY|B00U1KA12G|     278300201|Qixels S1 Turbo D...|            Toys|          5|           19|         20|   Y|                N|11 Year Old Loves...|My daughter who i...| 2015-08-31|\n",
            "|         US|   44167324|R1QS8AOD6HX3ED|B011BWUDGG|     501779560|Leray Self Balanc...|            Toys|          4|           59|         81|   N|                N|   Solid warranty...|[[VIDEOID:164d1b1...| 2015-08-31|\n",
            "|         US|   44759540|R3ED60RC69CCQ6|B00VJKTLMS|     917726757|Fisher-Price Nick...|            Toys|          5|           22|         23|   Y|                N|Lots of fun if yo...|This toy is a kno...| 2015-08-31|\n",
            "|         US|   43450674|R2JM687C525WR9|B00KH6BQJG|     116308869|OgoSport OgoBild ...|            Toys|          3|           33|         33|   Y|                N|Not bad, but we t...|cWe've had the Hu...| 2015-08-31|\n",
            "|         US|   38209184|R2LWX4TZ67FWPT|B00IYOCSE0|     825711912|Flexible Flyer Pl...|            Toys|          4|           50|         50|   N|                N|its a great swing...|its a great swing...| 2015-08-31|\n",
            "|         US|    7719843|R29IYHPYD14AGI|B000F3V2MW|     253592398|ALEX Toys Craft M...|            Toys|          3|           84|         84|   N|                Y|    preteen projects|I purchased this ...| 2015-08-31|\n",
            "|         US|   32035019|R1F2I723WRK5QV|B00YU88U6O|     480317972|SueSport 4-way Tu...|            Toys|          5|           20|         20|   N|                Y| Great for big cats!|Bought this for m...| 2015-08-31|\n",
            "|         US|   21817391| RRO8C1IVZMD6H|B011KD5CGW|     984270738|Playskool Heroes ...|            Toys|          5|           22|         22|   N|                N|Rescan line is sm...|When buying rescu...| 2015-08-31|\n",
            "|         US|   16379976|R2GHOWIWDVLN18|B00X9JDPYC|     681351265|UDI HD+ Drone wit...|            Toys|          1|           28|         36|   N|                Y|            One Star|The damn thing fl...| 2015-08-31|\n",
            "|         US|   28820853|R30PJ9XUHFTY5D|B003VYAJMG|     103705238|Little Tikes Bold...|            Toys|          5|           42|         43|   N|                N|My Granddaughter ...|My 18 month old g...| 2015-08-31|\n",
            "|         US|    9988621|R2F7D9N3SSQC20|B00YI1CHHG|     150124290|CloudPets 12in - ...|            Toys|          4|           32|         34|   N|                N|My daughter and I...|This bear is incr...| 2015-08-31|\n",
            "|         US|   27803490| RN4VK9FV66YPS|B00WJ1O76G|     701543085|LeapFrog Number L...|            Toys|          5|           29|         33|   N|                N|         LOVE THIS!!|[[VIDEOID:9050e95...| 2015-08-31|\n",
            "|         US|   50970965|R18T8SFBDXAKSY|B002TLDRI0|     198159965|JIGBOARD 1500 - J...|            Toys|          5|           95|         95|   N|                Y|Love it. With fiv...|Love it.  With fi...| 2015-08-31|\n",
            "|         US|    8109655|R36SKVJXZ0I98A|8499000606|     536492553|Syma S107/S107G R...|            Toys|          5|          124|        127|   N|                N|Nice, light weigh...|The Syma Helicopt...| 2015-08-31|\n",
            "|         US|     182750|R3PAIHQSO707G4|B010TU7LP2|       3331341|Exploding Kittens...|            Toys|          5|          189|        221|   N|                N|NSFW = NOT SAFE F...|Exploding Kittens...| 2015-08-31|\n",
            "|         US|    1449184|R2TETIV0IVWFSJ|B008R67UKM|     775534268|Good cosplay stra...|            Toys|          4|           80|         82|   N|                Y|and fits nicely. ...|Well constructed,...| 2015-08-31|\n",
            "|         US|    6105658|R1VBVD23GPZW0E|B00YSWUDGM|     412449765|100 Assorted Poke...|            Toys|          5|           55|         58|   N|                Y|So that was prett...|Came in a brown b...| 2015-08-31|\n",
            "|         US|   48638849|R1AJKXVHURPVCZ|B00DCENMWY|     376397735|Mice and Mystics:...|            Toys|          3|           12|         22|   N|                Y|Lacking in produc...|Keeping everythin...| 2015-08-31|\n",
            "+-----------+-----------+--------------+----------+--------------+--------------------+----------------+-----------+-------------+-----------+----+-----------------+--------------------+--------------------+-----------+\n",
            "only showing top 20 rows\n",
            "\n"
          ]
        }
      ]
    },
    {
      "cell_type": "code",
      "source": [
        "print(helpfulgreaterthan50_df.count())"
      ],
      "metadata": {
        "colab": {
          "base_uri": "https://localhost:8080/"
        },
        "id": "a3HOKPHk1I5a",
        "outputId": "e7caa44f-bb0b-4117-fc10-59c5182b8699"
      },
      "execution_count": 10,
      "outputs": [
        {
          "output_type": "stream",
          "name": "stdout",
          "text": [
            "63294\n"
          ]
        }
      ]
    },
    {
      "cell_type": "code",
      "source": [
        "#Filter the DataFrame or table created in Step 2, and create a new DataFrame or table that retrieves all the rows where a review was written as part of the Vine program (paid), vine == 'Y'.\n",
        "paidreview_df = helpfulgreaterthan50_df.filter(helpfulgreaterthan50_df[\"vine\"]==\"Y\")\n",
        "paidreview_df.show()\n",
        "\n"
      ],
      "metadata": {
        "colab": {
          "base_uri": "https://localhost:8080/"
        },
        "id": "YtwMYTEZz5XH",
        "outputId": "1dcebaf2-b315-4851-eafd-092c4281b415"
      },
      "execution_count": 11,
      "outputs": [
        {
          "output_type": "stream",
          "name": "stdout",
          "text": [
            "+-----------+-----------+--------------+----------+--------------+--------------------+----------------+-----------+-------------+-----------+----+-----------------+--------------------+--------------------+-----------+\n",
            "|marketplace|customer_id|     review_id|product_id|product_parent|       product_title|product_category|star_rating|helpful_votes|total_votes|vine|verified_purchase|     review_headline|         review_body|review_date|\n",
            "+-----------+-----------+--------------+----------+--------------+--------------------+----------------+-----------+-------------+-----------+----+-----------------+--------------------+--------------------+-----------+\n",
            "|         US|   53067113| R9I5FOLKU99RY|B00U1KA12G|     278300201|Qixels S1 Turbo D...|            Toys|          5|           19|         20|   Y|                N|11 Year Old Loves...|My daughter who i...| 2015-08-31|\n",
            "|         US|   44759540|R3ED60RC69CCQ6|B00VJKTLMS|     917726757|Fisher-Price Nick...|            Toys|          5|           22|         23|   Y|                N|Lots of fun if yo...|This toy is a kno...| 2015-08-31|\n",
            "|         US|   43450674|R2JM687C525WR9|B00KH6BQJG|     116308869|OgoSport OgoBild ...|            Toys|          3|           33|         33|   Y|                N|Not bad, but we t...|cWe've had the Hu...| 2015-08-31|\n",
            "|         US|   45716675| RUB4AUWGHG16G|B00T03U0OO|     754581011|Disney Frozen Els...|            Toys|          4|           25|         27|   Y|                N|and of course lit...|This might be the...| 2015-08-30|\n",
            "|         US|   52221911|R1S3IDYJUA6V2G|B00U5UH9CC|     205348267|FurReal Friends J...|            Toys|          5|           28|         32|   Y|                N|Video Shows It Be...|[[VIDEOID:b560180...| 2015-08-27|\n",
            "|         US|   49620639| RZFLN8FD5Y2M6|B00TF8Z7ZG|     552869173|Thames & Kosmos R...|            Toys|          4|           25|         28|   Y|                N|    A good challenge|This was a bit fr...| 2015-08-27|\n",
            "|         US|   26903314|R1V8NDXD9SETO5|B00SOG4W56|     133690318|FurReal Friends S...|            Toys|          3|          320|        352|   Y|                N|In our opinion, n...|Don't get me wron...| 2015-08-27|\n",
            "|         US|   49161703|R2H4VEFWHP50M3|B00UPAYYCA|     626860150|Chrono Bomb Original|            Toys|          5|           26|         36|   Y|                N|FANTASTIC GAME!!!...|This is an awesom...| 2015-08-27|\n",
            "|         US|   27140716|R3DP6Y0A8WXUOV|B00V3DHJC0|     663413144|My First Lab Mini...|            Toys|          5|           21|         21|   Y|                N|Outstanding!  A r...|My First Lab Mini...| 2015-08-26|\n",
            "|         US|   35391116| R49L85GZIKH4D|1601257457|     505075355|Pathfinder Advent...|            Toys|          3|           33|         36|   Y|                N|Fun and better th...|I was kind of sur...| 2015-08-26|\n",
            "|         US|   48357724| R2RQKWRUS11DZ|B00TVIFZ1Q|     901252756|Nerf Rebelle Secr...|            Toys|          5|           18|         20|   Y|                N|KID-TESTED!  5 ki...|UPDATE on Nov 30,...| 2015-08-25|\n",
            "|         US|   46693594| RZL7TPXLJPR2Z|B00VJKTFYW|     748575702|Fisher-Price Thom...|            Toys|          4|           19|         20|   Y|                N|Your cat will hat...|I have a four yea...| 2015-08-25|\n",
            "|         US|   47107073|R34JSTH01HK1J8|B00T03U0OO|     754581011|Disney Frozen Els...|            Toys|          4|           75|         80|   Y|                N|          Ice Palace|[[VIDEOID:2e52e58...| 2015-08-25|\n",
            "|         US|   50116247|R1OI8PAJW4MWUY|B00QKLLC1O|     146052104|Schleich Dragon F...|            Toys|          5|           20|         20|   Y|                N|Another high qual...|Schleich is a Ger...| 2015-08-25|\n",
            "|         US|   47030935|R1RXSJILN39UY1|B00VJKT0QU|     660207223|Fisher-Price Brig...|            Toys|          5|           48|         53|   Y|                N| Lights, music, fun!|I ordered this to...| 2015-08-24|\n",
            "|         US|   34571698| R79XS8S5EYX59|B00T0GY3U8|     977011021|Dimension: The Sp...|            Toys|          3|           20|         22|   Y|                N|A very original g...|Over the past two...| 2015-08-24|\n",
            "|         US|   20047667|R24STRS5M3QEXQ|B00U26LQDC|      28745879|Mega Bloks First ...|            Toys|          5|           60|         65|   Y|                N|Mega Bloks First ...|A must have toy f...| 2015-08-24|\n",
            "|         US|   45378171|R15HJU8XNX1XG1|B00XUZH8DE|     501465614|VTech Go! Go! Sma...|            Toys|          4|           25|         26|   Y|                N|Excellent product...|The VTech Go! Go!...| 2015-08-23|\n",
            "|         US|   52008531|R1NMYF3BJM72A0|B00PNAGN7Q|     236099298|Moose Toys Chocol...|            Toys|          4|           57|         60|   Y|                N|A Fun Afternoon o...|So many people th...| 2015-08-23|\n",
            "|         US|   49129501| R8XSDH6E6YWMX|B00UCWQMZ8|     738713791|Laugh & Learn Sma...|            Toys|          4|           22|         24|   Y|                N|    Good For Infants|This is a cute, e...| 2015-08-23|\n",
            "+-----------+-----------+--------------+----------+--------------+--------------------+----------------+-----------+-------------+-----------+----+-----------------+--------------------+--------------------+-----------+\n",
            "only showing top 20 rows\n",
            "\n"
          ]
        }
      ]
    },
    {
      "cell_type": "code",
      "source": [
        "print(paidreview_df.count())"
      ],
      "metadata": {
        "colab": {
          "base_uri": "https://localhost:8080/"
        },
        "id": "-P5mgkM0z5hT",
        "outputId": "c698dda8-834e-438d-a144-41f342424e48"
      },
      "execution_count": 12,
      "outputs": [
        {
          "output_type": "stream",
          "name": "stdout",
          "text": [
            "1266\n"
          ]
        }
      ]
    },
    {
      "cell_type": "code",
      "source": [
        "#Repeat Step 3, but this time retrieve all the rows where the review was not part of the Vine program (unpaid), vine == 'N'.\n",
        "notpaidreview_df = helpfulgreaterthan50_df.filter(helpfulgreaterthan50_df[\"vine\"]==\"N\")\n",
        "notpaidreview_df.show()"
      ],
      "metadata": {
        "colab": {
          "base_uri": "https://localhost:8080/"
        },
        "id": "pXgav4Mn4Taq",
        "outputId": "282e9a30-67f2-42ff-b70a-098c4d629bb5"
      },
      "execution_count": 13,
      "outputs": [
        {
          "output_type": "stream",
          "name": "stdout",
          "text": [
            "+-----------+-----------+--------------+----------+--------------+--------------------+----------------+-----------+-------------+-----------+----+-----------------+--------------------+--------------------+-----------+\n",
            "|marketplace|customer_id|     review_id|product_id|product_parent|       product_title|product_category|star_rating|helpful_votes|total_votes|vine|verified_purchase|     review_headline|         review_body|review_date|\n",
            "+-----------+-----------+--------------+----------+--------------+--------------------+----------------+-----------+-------------+-----------+----+-----------------+--------------------+--------------------+-----------+\n",
            "|         US|   11025729| ROP6ITXO8K5V2|B00LE9MZMW|     778942419|YJ Moyu 13x13x13 ...|            Toys|          5|           23|         27|   N|                Y|          Five Stars|Great cube, moves...| 2015-08-31|\n",
            "|         US|   50123725|R3ND1LVU7AXCVF|B00LOV24VC|     363255349|Marshmallow Furni...|            Toys|          1|           21|         21|   N|                Y|If you want a qua...|i bought this cha...| 2015-08-31|\n",
            "|         US|   44167324|R1QS8AOD6HX3ED|B011BWUDGG|     501779560|Leray Self Balanc...|            Toys|          4|           59|         81|   N|                N|   Solid warranty...|[[VIDEOID:164d1b1...| 2015-08-31|\n",
            "|         US|   38209184|R2LWX4TZ67FWPT|B00IYOCSE0|     825711912|Flexible Flyer Pl...|            Toys|          4|           50|         50|   N|                N|its a great swing...|its a great swing...| 2015-08-31|\n",
            "|         US|    7719843|R29IYHPYD14AGI|B000F3V2MW|     253592398|ALEX Toys Craft M...|            Toys|          3|           84|         84|   N|                Y|    preteen projects|I purchased this ...| 2015-08-31|\n",
            "|         US|   32035019|R1F2I723WRK5QV|B00YU88U6O|     480317972|SueSport 4-way Tu...|            Toys|          5|           20|         20|   N|                Y| Great for big cats!|Bought this for m...| 2015-08-31|\n",
            "|         US|   21817391| RRO8C1IVZMD6H|B011KD5CGW|     984270738|Playskool Heroes ...|            Toys|          5|           22|         22|   N|                N|Rescan line is sm...|When buying rescu...| 2015-08-31|\n",
            "|         US|   16379976|R2GHOWIWDVLN18|B00X9JDPYC|     681351265|UDI HD+ Drone wit...|            Toys|          1|           28|         36|   N|                Y|            One Star|The damn thing fl...| 2015-08-31|\n",
            "|         US|   28820853|R30PJ9XUHFTY5D|B003VYAJMG|     103705238|Little Tikes Bold...|            Toys|          5|           42|         43|   N|                N|My Granddaughter ...|My 18 month old g...| 2015-08-31|\n",
            "|         US|    9988621|R2F7D9N3SSQC20|B00YI1CHHG|     150124290|CloudPets 12in - ...|            Toys|          4|           32|         34|   N|                N|My daughter and I...|This bear is incr...| 2015-08-31|\n",
            "|         US|   27803490| RN4VK9FV66YPS|B00WJ1O76G|     701543085|LeapFrog Number L...|            Toys|          5|           29|         33|   N|                N|         LOVE THIS!!|[[VIDEOID:9050e95...| 2015-08-31|\n",
            "|         US|   50970965|R18T8SFBDXAKSY|B002TLDRI0|     198159965|JIGBOARD 1500 - J...|            Toys|          5|           95|         95|   N|                Y|Love it. With fiv...|Love it.  With fi...| 2015-08-31|\n",
            "|         US|    8109655|R36SKVJXZ0I98A|8499000606|     536492553|Syma S107/S107G R...|            Toys|          5|          124|        127|   N|                N|Nice, light weigh...|The Syma Helicopt...| 2015-08-31|\n",
            "|         US|     182750|R3PAIHQSO707G4|B010TU7LP2|       3331341|Exploding Kittens...|            Toys|          5|          189|        221|   N|                N|NSFW = NOT SAFE F...|Exploding Kittens...| 2015-08-31|\n",
            "|         US|    1449184|R2TETIV0IVWFSJ|B008R67UKM|     775534268|Good cosplay stra...|            Toys|          4|           80|         82|   N|                Y|and fits nicely. ...|Well constructed,...| 2015-08-31|\n",
            "|         US|    6105658|R1VBVD23GPZW0E|B00YSWUDGM|     412449765|100 Assorted Poke...|            Toys|          5|           55|         58|   N|                Y|So that was prett...|Came in a brown b...| 2015-08-31|\n",
            "|         US|   48638849|R1AJKXVHURPVCZ|B00DCENMWY|     376397735|Mice and Mystics:...|            Toys|          3|           12|         22|   N|                Y|Lacking in produc...|Keeping everythin...| 2015-08-31|\n",
            "|         US|   12153405|R2QDNZYVEX9X14|B00TOVMXW4|     559725484|Playskool Heroes ...|            Toys|          2|           18|         20|   N|                N|More junk from Re...|Any parent famili...| 2015-08-31|\n",
            "|         US|   29775971|R32RD311POLW7G|B00IEH9FQG|     303166933|KidKraft Airplane...|            Toys|          3|           25|         27|   N|                Y|Adorable but asse...|Aesthetically, th...| 2015-08-30|\n",
            "|         US|   35208712|R1VXO073B9HOGC|B0033JB3UG|     676646525| Buttercup Dollhouse|            Toys|          4|           29|         30|   N|                Y|Cute little doll ...|You have to prep ...| 2015-08-30|\n",
            "+-----------+-----------+--------------+----------+--------------+--------------------+----------------+-----------+-------------+-----------+----+-----------------+--------------------+--------------------+-----------+\n",
            "only showing top 20 rows\n",
            "\n"
          ]
        }
      ]
    },
    {
      "cell_type": "code",
      "source": [
        "print(notpaidreview_df.count())"
      ],
      "metadata": {
        "colab": {
          "base_uri": "https://localhost:8080/"
        },
        "id": "9i4FiMI04d4p",
        "outputId": "a6a69cd3-bdaf-41d5-bd15-1a0722f70ba5"
      },
      "execution_count": 14,
      "outputs": [
        {
          "output_type": "stream",
          "name": "stdout",
          "text": [
            "62028\n"
          ]
        }
      ]
    },
    {
      "cell_type": "code",
      "source": [
        "#Determine the total number of reviews\n",
        "\n",
        "print(df.count())\n",
        "\n",
        "\n",
        "\n"
      ],
      "metadata": {
        "colab": {
          "base_uri": "https://localhost:8080/"
        },
        "id": "BRvrrQb05Hs-",
        "outputId": "fc032788-e527-4698-e858-82aaa1eae5ff"
      },
      "execution_count": 16,
      "outputs": [
        {
          "output_type": "stream",
          "name": "stdout",
          "text": [
            "4864249\n"
          ]
        }
      ]
    },
    {
      "cell_type": "code",
      "source": [
        " # determine the number of 5-star reviews\n",
        "\n",
        "fivestarreview_df = df.filter(df[\"star_rating\"]==\"5\")\n",
        "fivestarreview_df.show()"
      ],
      "metadata": {
        "colab": {
          "base_uri": "https://localhost:8080/"
        },
        "id": "yjXZNdH15NPo",
        "outputId": "cea82922-4d1e-44bc-d81b-add852360106"
      },
      "execution_count": 17,
      "outputs": [
        {
          "output_type": "stream",
          "name": "stdout",
          "text": [
            "+-----------+-----------+--------------+----------+--------------+--------------------+----------------+-----------+-------------+-----------+----+-----------------+--------------------+--------------------+-----------+\n",
            "|marketplace|customer_id|     review_id|product_id|product_parent|       product_title|product_category|star_rating|helpful_votes|total_votes|vine|verified_purchase|     review_headline|         review_body|review_date|\n",
            "+-----------+-----------+--------------+----------+--------------+--------------------+----------------+-----------+-------------+-----------+----+-----------------+--------------------+--------------------+-----------+\n",
            "|         US|   18778586| RDIJS7QYB6XNR|B00EDBY7X8|     122952789|Monopoly Junior B...|            Toys|          5|            0|          0|   N|                Y|          Five Stars|        Excellent!!!| 2015-08-31|\n",
            "|         US|   24769659|R36ED1U38IELG8|B00D7JFOPC|     952062646|56 Pieces of Wood...|            Toys|          5|            0|          0|   N|                Y|Good quality trac...|Great quality woo...| 2015-08-31|\n",
            "|         US|   23310293|R298788GS6I901|B00ARPLCGY|     261944918|Barbie Doll and F...|            Toys|          5|            0|          0|   N|                Y|my daughter loved...|my daughter loved...| 2015-08-31|\n",
            "|         US|   13394189|R3BPETL222LMIM|B009B7F6CA|     873028700|Melissa & Doug Wa...|            Toys|          5|            0|          0|   N|                Y|          Five Stars|Great item. Pictu...| 2015-08-31|\n",
            "|         US|   41137196|R2RDOJQ0WBZCF6|B00407S11Y|     383363775|Fun Express Insec...|            Toys|          5|            0|          0|   N|                Y|          Five Stars|I was pleased wit...| 2015-08-31|\n",
            "|         US|     433677|R2B8VBEPB4YEZ7|B00FGPU7U2|     780517568|Fisher-Price Octo...|            Toys|          5|            0|          0|   N|                Y|          Five Stars|    Children like it| 2015-08-31|\n",
            "|         US|   52006292| R2D90RQQ3V8LH|B00519PJTW|     493486387|100 Foot Multicol...|            Toys|          5|            0|          0|   N|                Y|          Five Stars|Really liked thes...| 2015-08-31|\n",
            "|         US|   32071052|R1Y4ZOUGFMJ327|B001TCY2DO|     459122467|Pig Jumbo Foil Ba...|            Toys|          5|            0|          0|   N|                Y|   Nice huge balloon|Nice huge balloon...| 2015-08-31|\n",
            "|         US|    7360347|R2BUV9QJI2A00X|B00DOQCWF8|     226984155|Minecraft Animal ...|            Toys|          5|            0|          1|   N|                Y|          Five Stars|          Great deal| 2015-08-31|\n",
            "|         US|   43880421| R2ATXF4QQ30YW|B00000JS5S|     341842639|Hot Wheels 48- Ca...|            Toys|          5|            0|          0|   N|                Y|          Five Stars|   awesome ! Thanks!| 2015-08-31|\n",
            "|         US|    1662075|R1YS3DS218NNMD|B00XPWXYDK|     210135375|ZuZo 2.4GHz 4 CH ...|            Toys|          5|            4|          4|   N|                N|The closest relev...|I got this item f...| 2015-08-31|\n",
            "|         US|   18461411|R2SDXLTLF92O0H|B00VPXX92W|     705054378|Teenage Mutant Ni...|            Toys|          5|            0|          0|   N|                Y|          Five Stars|It was a birthday...| 2015-08-31|\n",
            "|         US|    6762003|R1H1HOVB44808I|B00PXWS1CY|     996611871|Holy Stone F180C ...|            Toys|          5|            1|          1|   N|                N|          Five Stars|Awesome customer ...| 2015-08-31|\n",
            "|         US|   32910511|R226K8IJLRPTIR|B00V5DM3RE|     587799706|Yoga Joes - Green...|            Toys|          5|            0|          1|   N|                Y|   Creative and fun!|My girlfriend and...| 2015-08-31|\n",
            "|         US|     128540|R24VKWVWUMV3M3|B004S8F7QM|     829220659|Cards Against Hum...|            Toys|          5|            0|          0|   N|                Y|          Five Stars|         Tons of fun| 2015-08-31|\n",
            "|         US|     125518|R2MW3TEBPWKENS|B00MZ6BR3Q|     145562057|Monster High Haun...|            Toys|          5|            0|          0|   N|                Y|          Five Stars|Love it great add...| 2015-08-31|\n",
            "|         US|   15048896|R3N01IESYEYW01|B001CTOC8O|     278247652|Star Wars Clone W...|            Toys|          5|            0|          1|   N|                Y|          Five Stars|Exactly as descri...| 2015-08-31|\n",
            "|         US|   12191231| RKLAK7EPEG5S6|B00BMKL5WY|     906199996|LEGO Creative Tow...|            Toys|          5|            1|          2|   N|                Y|The children LOVE...|Purchased these L...| 2015-08-31|\n",
            "|         US|   45601416|R3OSJU70OIBWVE|B000PEOMC8|     895316207|Intex River Run I...|            Toys|          5|            0|          0|   N|                Y|but I've bought o...|Ended up sending ...| 2015-08-31|\n",
            "|         US|   21448082| R47XBGQFP039N|B00FZX71BI|     480992295|Paraboard - Paral...|            Toys|          5|            0|          0|   N|                Y|CAN SAVE TME IF Y...|Works well ,quali...| 2015-08-31|\n",
            "+-----------+-----------+--------------+----------+--------------+--------------------+----------------+-----------+-------------+-----------+----+-----------------+--------------------+--------------------+-----------+\n",
            "only showing top 20 rows\n",
            "\n"
          ]
        }
      ]
    },
    {
      "cell_type": "code",
      "source": [
        "#count of five star reviews\n",
        "\n",
        "\n",
        "print(fivestarreview_df.count())"
      ],
      "metadata": {
        "colab": {
          "base_uri": "https://localhost:8080/"
        },
        "id": "231u7XLS7g1_",
        "outputId": "701880e3-eee7-4d80-950b-bdb62ec976d1"
      },
      "execution_count": 18,
      "outputs": [
        {
          "output_type": "stream",
          "name": "stdout",
          "text": [
            "3076917\n"
          ]
        }
      ]
    },
    {
      "cell_type": "code",
      "source": [
        "# create unpaid entirepopulation dataframe\n",
        "entirenotpaidreview_df = df.filter(df[\"vine\"]==\"N\")\n",
        "entirenotpaidreview_df.show()\n",
        "\n"
      ],
      "metadata": {
        "colab": {
          "base_uri": "https://localhost:8080/"
        },
        "id": "dvtRhV0I5Nea",
        "outputId": "9a12d9f5-ebad-44b9-a25d-e24379bde32c"
      },
      "execution_count": 19,
      "outputs": [
        {
          "output_type": "stream",
          "name": "stdout",
          "text": [
            "+-----------+-----------+--------------+----------+--------------+--------------------+----------------+-----------+-------------+-----------+----+-----------------+--------------------+--------------------+-----------+\n",
            "|marketplace|customer_id|     review_id|product_id|product_parent|       product_title|product_category|star_rating|helpful_votes|total_votes|vine|verified_purchase|     review_headline|         review_body|review_date|\n",
            "+-----------+-----------+--------------+----------+--------------+--------------------+----------------+-----------+-------------+-----------+----+-----------------+--------------------+--------------------+-----------+\n",
            "|         US|   18778586| RDIJS7QYB6XNR|B00EDBY7X8|     122952789|Monopoly Junior B...|            Toys|          5|            0|          0|   N|                Y|          Five Stars|        Excellent!!!| 2015-08-31|\n",
            "|         US|   24769659|R36ED1U38IELG8|B00D7JFOPC|     952062646|56 Pieces of Wood...|            Toys|          5|            0|          0|   N|                Y|Good quality trac...|Great quality woo...| 2015-08-31|\n",
            "|         US|   44331596| R1UE3RPRGCOLD|B002LHA74O|     818126353|Super Jumbo Playi...|            Toys|          2|            1|          1|   N|                Y|           Two Stars|Cards are not as ...| 2015-08-31|\n",
            "|         US|   23310293|R298788GS6I901|B00ARPLCGY|     261944918|Barbie Doll and F...|            Toys|          5|            0|          0|   N|                Y|my daughter loved...|my daughter loved...| 2015-08-31|\n",
            "|         US|   38745832|  RNX4EXOBBPN5|B00UZOPOFW|     717410439|Emazing Lights eL...|            Toys|          1|            1|          1|   N|                Y|     DONT BUY THESE!|Do not buy these!...| 2015-08-31|\n",
            "|         US|   13394189|R3BPETL222LMIM|B009B7F6CA|     873028700|Melissa & Doug Wa...|            Toys|          5|            0|          0|   N|                Y|          Five Stars|Great item. Pictu...| 2015-08-31|\n",
            "|         US|    2749569|R3SORMPJZO3F2J|B0101EHRSM|     723424342|Big Bang Cosmic P...|            Toys|          3|            2|          2|   N|                Y|         Three Stars|To keep together,...| 2015-08-31|\n",
            "|         US|   41137196|R2RDOJQ0WBZCF6|B00407S11Y|     383363775|Fun Express Insec...|            Toys|          5|            0|          0|   N|                Y|          Five Stars|I was pleased wit...| 2015-08-31|\n",
            "|         US|     433677|R2B8VBEPB4YEZ7|B00FGPU7U2|     780517568|Fisher-Price Octo...|            Toys|          5|            0|          0|   N|                Y|          Five Stars|    Children like it| 2015-08-31|\n",
            "|         US|    1297934|R1CB783I7B0U52|B0013OY0S0|     269360126|Claw Climber Goli...|            Toys|          1|            0|          1|   N|                Y|Shame on the sell...|Showed up not how...| 2015-08-31|\n",
            "|         US|   52006292| R2D90RQQ3V8LH|B00519PJTW|     493486387|100 Foot Multicol...|            Toys|          5|            0|          0|   N|                Y|          Five Stars|Really liked thes...| 2015-08-31|\n",
            "|         US|   32071052|R1Y4ZOUGFMJ327|B001TCY2DO|     459122467|Pig Jumbo Foil Ba...|            Toys|          5|            0|          0|   N|                Y|   Nice huge balloon|Nice huge balloon...| 2015-08-31|\n",
            "|         US|    7360347|R2BUV9QJI2A00X|B00DOQCWF8|     226984155|Minecraft Animal ...|            Toys|          5|            0|          1|   N|                Y|          Five Stars|          Great deal| 2015-08-31|\n",
            "|         US|   11613707| RSUHRJFJIRB3Z|B004C04I4I|     375659886|Disney Baby: Eeyo...|            Toys|          4|            0|          0|   N|                Y|          Four Stars|       As Advertised| 2015-08-31|\n",
            "|         US|   13545982|R1T96CG98BBA15|B00NWGEKBY|     933734136|Team Losi 8IGHT-E...|            Toys|          3|            2|          4|   N|                Y|... servo so expe...|Comes w a 15$ ser...| 2015-08-31|\n",
            "|         US|   43880421| R2ATXF4QQ30YW|B00000JS5S|     341842639|Hot Wheels 48- Ca...|            Toys|          5|            0|          0|   N|                Y|          Five Stars|   awesome ! Thanks!| 2015-08-31|\n",
            "|         US|    1662075|R1YS3DS218NNMD|B00XPWXYDK|     210135375|ZuZo 2.4GHz 4 CH ...|            Toys|          5|            4|          4|   N|                N|The closest relev...|I got this item f...| 2015-08-31|\n",
            "|         US|   18461411|R2SDXLTLF92O0H|B00VPXX92W|     705054378|Teenage Mutant Ni...|            Toys|          5|            0|          0|   N|                Y|          Five Stars|It was a birthday...| 2015-08-31|\n",
            "|         US|   20494593|R32Z6UA4S5Q630|B009T8BSQY|     787701676|Alien Frontiers: ...|            Toys|          1|            0|          0|   N|                Y|         Overpriced.|You need expansio...| 2015-08-31|\n",
            "|         US|    6762003|R1H1HOVB44808I|B00PXWS1CY|     996611871|Holy Stone F180C ...|            Toys|          5|            1|          1|   N|                N|          Five Stars|Awesome customer ...| 2015-08-31|\n",
            "+-----------+-----------+--------------+----------+--------------+--------------------+----------------+-----------+-------------+-----------+----+-----------------+--------------------+--------------------+-----------+\n",
            "only showing top 20 rows\n",
            "\n"
          ]
        }
      ]
    },
    {
      "cell_type": "code",
      "source": [
        "print(entirenotpaidreview_df.count())"
      ],
      "metadata": {
        "colab": {
          "base_uri": "https://localhost:8080/"
        },
        "id": "tH_JeA3j8uWZ",
        "outputId": "cc83eb23-eb85-4625-f3c9-be0fa54fe567"
      },
      "execution_count": 20,
      "outputs": [
        {
          "output_type": "stream",
          "name": "stdout",
          "text": [
            "4822408\n"
          ]
        }
      ]
    },
    {
      "cell_type": "code",
      "source": [
        "# create paid entirepopulation dataframe\n",
        "entirepaidreview_df = df.filter(df[\"vine\"]==\"Y\")\n",
        "entirepaidreview_df.show()"
      ],
      "metadata": {
        "colab": {
          "base_uri": "https://localhost:8080/"
        },
        "id": "nsFFzpi69OAf",
        "outputId": "b2a07645-3c00-4e30-92a6-4af71ec2f799"
      },
      "execution_count": 21,
      "outputs": [
        {
          "output_type": "stream",
          "name": "stdout",
          "text": [
            "+-----------+-----------+--------------+----------+--------------+--------------------+----------------+-----------+-------------+-----------+----+-----------------+--------------------+--------------------+-----------+\n",
            "|marketplace|customer_id|     review_id|product_id|product_parent|       product_title|product_category|star_rating|helpful_votes|total_votes|vine|verified_purchase|     review_headline|         review_body|review_date|\n",
            "+-----------+-----------+--------------+----------+--------------+--------------------+----------------+-----------+-------------+-----------+----+-----------------+--------------------+--------------------+-----------+\n",
            "|         US|   27225859| R4R337CCDWLNG|B00YRA3H4U|     223420727|Franklin Sports M...|            Toys|          3|            0|          1|   Y|                N|Got wrong product...|Got a wrong produ...| 2015-08-31|\n",
            "|         US|   27367902|R16N0A77B9KDEJ|B00WJ1PPGM|     999209932|LeapFrog LeapTV: ...|            Toys|          4|            0|          0|   Y|                N|  Good for Ages 3 -5|The grandchildren...| 2015-08-31|\n",
            "|         US|   43450674|R3TQ9HOI4SGLKE|B00C1ZX298|     238990333|Madame Alexander ...|            Toys|          5|            0|          0|   Y|                N|Super Cute! Equal...|Really cute doll,...| 2015-08-31|\n",
            "|         US|   51118641|R3V2Y9NU2GKN0M|B00Y53UVIO|     689858218|VTech Magic Star ...|            Toys|          5|            0|          0|   Y|                N|Baby you can driv...|My Grandson just ...| 2015-08-31|\n",
            "|         US|   53067113| R9I5FOLKU99RY|B00U1KA12G|     278300201|Qixels S1 Turbo D...|            Toys|          5|           19|         20|   Y|                N|11 Year Old Loves...|My daughter who i...| 2015-08-31|\n",
            "|         US|   39828223|R3ANN81Q02N3IU|B00VJKT11E|     885618366|Fisher-Price Litt...|            Toys|          4|            2|          4|   Y|                N|Great entertainme...|I remember playin...| 2015-08-31|\n",
            "|         US|   50224383|R2ZRQEX5P1H9AP|B00TL8UHHS|     823348028|Green Toys Constr...|            Toys|          5|            0|          0|   Y|                N|     Durable and fun|We have several o...| 2015-08-31|\n",
            "|         US|   52917100| R55U7D3J4FHVJ|B00T0JDVA8|     925420808|Dohdles! What is ...|            Toys|          5|            0|          0|   Y|                N|Fun, challenging,...|I'll bet that Doh...| 2015-08-31|\n",
            "|         US|   35731740|R31RNTRT1V6KF6|B00TXNJ45M|     716676972|The Learning Jour...|            Toys|          4|            0|          0|   Y|                N|Twin Tested And A...|I'd agreed that a...| 2015-08-31|\n",
            "|         US|   44759540|R3ED60RC69CCQ6|B00VJKTLMS|     917726757|Fisher-Price Nick...|            Toys|          5|           22|         23|   Y|                N|Lots of fun if yo...|This toy is a kno...| 2015-08-31|\n",
            "|         US|   47887209|R2ZVKU440LEN13|B00QKLLC1O|     146052104|Schleich Dragon F...|            Toys|          5|            0|          0|   Y|                N|Perfect for the d...|The Schleich Drag...| 2015-08-31|\n",
            "|         US|   44737123| R3V3AFWPY369L|B00UJGU9GK|     499958248|Nature Bound Bug ...|            Toys|          4|            1|          1|   Y|                N|For Little Nature...|While I shudder a...| 2015-08-31|\n",
            "|         US|   13825494|R1RWH1BJ7JAT81|B00TFWOXVQ|     623593083|Crayola Color Won...|            Toys|          5|            0|          0|   Y|                N|        So much fun!|My niece and neph...| 2015-08-31|\n",
            "|         US|   50224383|R21ECAILPS2S6R|B00TL8UHOG|     823348028|Green Toys Constr...|            Toys|          5|            0|          0|   Y|                N|     Durable and fun|We have several o...| 2015-08-31|\n",
            "|         US|   14016926|R2MLZWOSNHXEL6|B00XRDHD2K|     355944377|VTech Count and L...|            Toys|          3|            2|          3|   Y|                N|VERY loud and doe...|The way it works,...| 2015-08-31|\n",
            "|         US|   42627253|R1EDJVEW0FXE0K|B00TE8YF9G|     410005255|Inside Out \"I Cry...|            Toys|          3|            0|          0|   Y|                N|   Cute, But Flawed.|This is a cute pl...| 2015-08-31|\n",
            "|         US|   44737123|R1238CMYVP3021|B00UUS460C|     873643814|Nature Bound Bug ...|            Toys|          4|            0|          0|   Y|                N|For Little Nature...|While I shudder a...| 2015-08-31|\n",
            "|         US|   43450674|R2JM687C525WR9|B00KH6BQJG|     116308869|OgoSport OgoBild ...|            Toys|          3|           33|         33|   Y|                N|Not bad, but we t...|cWe've had the Hu...| 2015-08-31|\n",
            "|         US|   50908619|R1WJYFHPPCZ4DE|B00T03UAEY|     551889547|Barbie Pop-Up Cam...|            Toys|          5|            4|          5|   Y|                N|Huge and Lots of ...|Wow!  This is hug...| 2015-08-31|\n",
            "|         US|   50888291|R3EUSL1NBNEW08|B00V0BXP8W|     196790458|Disney Descendant...|            Toys|          5|            2|          2|   Y|                N|At home with our ...|We have quite a f...| 2015-08-31|\n",
            "+-----------+-----------+--------------+----------+--------------+--------------------+----------------+-----------+-------------+-----------+----+-----------------+--------------------+--------------------+-----------+\n",
            "only showing top 20 rows\n",
            "\n"
          ]
        }
      ]
    },
    {
      "cell_type": "code",
      "source": [
        "print(entirepaidreview_df.count())"
      ],
      "metadata": {
        "colab": {
          "base_uri": "https://localhost:8080/"
        },
        "id": "vU1qKAHS9UU5",
        "outputId": "a14d5796-05b4-4730-b977-31b801520178"
      },
      "execution_count": 22,
      "outputs": [
        {
          "output_type": "stream",
          "name": "stdout",
          "text": [
            "41835\n"
          ]
        }
      ]
    },
    {
      "cell_type": "code",
      "source": [
        "#  determine the numberof 5-star reviews for the unpaid reviews\n",
        "\n",
        "unpaidfivestarreview_df = entirenotpaidreview_df.filter(entirenotpaidreview_df[\"star_rating\"]==\"5\")\n",
        "unpaidfivestarreview_df.show()\n"
      ],
      "metadata": {
        "colab": {
          "base_uri": "https://localhost:8080/"
        },
        "id": "JO-Uj1Ya_iAf",
        "outputId": "f680a057-6c09-462d-dafe-eafe1b32bd4e"
      },
      "execution_count": 25,
      "outputs": [
        {
          "output_type": "stream",
          "name": "stdout",
          "text": [
            "+-----------+-----------+--------------+----------+--------------+--------------------+----------------+-----------+-------------+-----------+----+-----------------+--------------------+--------------------+-----------+\n",
            "|marketplace|customer_id|     review_id|product_id|product_parent|       product_title|product_category|star_rating|helpful_votes|total_votes|vine|verified_purchase|     review_headline|         review_body|review_date|\n",
            "+-----------+-----------+--------------+----------+--------------+--------------------+----------------+-----------+-------------+-----------+----+-----------------+--------------------+--------------------+-----------+\n",
            "|         US|   18778586| RDIJS7QYB6XNR|B00EDBY7X8|     122952789|Monopoly Junior B...|            Toys|          5|            0|          0|   N|                Y|          Five Stars|        Excellent!!!| 2015-08-31|\n",
            "|         US|   24769659|R36ED1U38IELG8|B00D7JFOPC|     952062646|56 Pieces of Wood...|            Toys|          5|            0|          0|   N|                Y|Good quality trac...|Great quality woo...| 2015-08-31|\n",
            "|         US|   23310293|R298788GS6I901|B00ARPLCGY|     261944918|Barbie Doll and F...|            Toys|          5|            0|          0|   N|                Y|my daughter loved...|my daughter loved...| 2015-08-31|\n",
            "|         US|   13394189|R3BPETL222LMIM|B009B7F6CA|     873028700|Melissa & Doug Wa...|            Toys|          5|            0|          0|   N|                Y|          Five Stars|Great item. Pictu...| 2015-08-31|\n",
            "|         US|   41137196|R2RDOJQ0WBZCF6|B00407S11Y|     383363775|Fun Express Insec...|            Toys|          5|            0|          0|   N|                Y|          Five Stars|I was pleased wit...| 2015-08-31|\n",
            "|         US|     433677|R2B8VBEPB4YEZ7|B00FGPU7U2|     780517568|Fisher-Price Octo...|            Toys|          5|            0|          0|   N|                Y|          Five Stars|    Children like it| 2015-08-31|\n",
            "|         US|   52006292| R2D90RQQ3V8LH|B00519PJTW|     493486387|100 Foot Multicol...|            Toys|          5|            0|          0|   N|                Y|          Five Stars|Really liked thes...| 2015-08-31|\n",
            "|         US|   32071052|R1Y4ZOUGFMJ327|B001TCY2DO|     459122467|Pig Jumbo Foil Ba...|            Toys|          5|            0|          0|   N|                Y|   Nice huge balloon|Nice huge balloon...| 2015-08-31|\n",
            "|         US|    7360347|R2BUV9QJI2A00X|B00DOQCWF8|     226984155|Minecraft Animal ...|            Toys|          5|            0|          1|   N|                Y|          Five Stars|          Great deal| 2015-08-31|\n",
            "|         US|   43880421| R2ATXF4QQ30YW|B00000JS5S|     341842639|Hot Wheels 48- Ca...|            Toys|          5|            0|          0|   N|                Y|          Five Stars|   awesome ! Thanks!| 2015-08-31|\n",
            "|         US|    1662075|R1YS3DS218NNMD|B00XPWXYDK|     210135375|ZuZo 2.4GHz 4 CH ...|            Toys|          5|            4|          4|   N|                N|The closest relev...|I got this item f...| 2015-08-31|\n",
            "|         US|   18461411|R2SDXLTLF92O0H|B00VPXX92W|     705054378|Teenage Mutant Ni...|            Toys|          5|            0|          0|   N|                Y|          Five Stars|It was a birthday...| 2015-08-31|\n",
            "|         US|    6762003|R1H1HOVB44808I|B00PXWS1CY|     996611871|Holy Stone F180C ...|            Toys|          5|            1|          1|   N|                N|          Five Stars|Awesome customer ...| 2015-08-31|\n",
            "|         US|   32910511|R226K8IJLRPTIR|B00V5DM3RE|     587799706|Yoga Joes - Green...|            Toys|          5|            0|          1|   N|                Y|   Creative and fun!|My girlfriend and...| 2015-08-31|\n",
            "|         US|     128540|R24VKWVWUMV3M3|B004S8F7QM|     829220659|Cards Against Hum...|            Toys|          5|            0|          0|   N|                Y|          Five Stars|         Tons of fun| 2015-08-31|\n",
            "|         US|     125518|R2MW3TEBPWKENS|B00MZ6BR3Q|     145562057|Monster High Haun...|            Toys|          5|            0|          0|   N|                Y|          Five Stars|Love it great add...| 2015-08-31|\n",
            "|         US|   15048896|R3N01IESYEYW01|B001CTOC8O|     278247652|Star Wars Clone W...|            Toys|          5|            0|          1|   N|                Y|          Five Stars|Exactly as descri...| 2015-08-31|\n",
            "|         US|   12191231| RKLAK7EPEG5S6|B00BMKL5WY|     906199996|LEGO Creative Tow...|            Toys|          5|            1|          2|   N|                Y|The children LOVE...|Purchased these L...| 2015-08-31|\n",
            "|         US|   45601416|R3OSJU70OIBWVE|B000PEOMC8|     895316207|Intex River Run I...|            Toys|          5|            0|          0|   N|                Y|but I've bought o...|Ended up sending ...| 2015-08-31|\n",
            "|         US|   21448082| R47XBGQFP039N|B00FZX71BI|     480992295|Paraboard - Paral...|            Toys|          5|            0|          0|   N|                Y|CAN SAVE TME IF Y...|Works well ,quali...| 2015-08-31|\n",
            "+-----------+-----------+--------------+----------+--------------+--------------------+----------------+-----------+-------------+-----------+----+-----------------+--------------------+--------------------+-----------+\n",
            "only showing top 20 rows\n",
            "\n"
          ]
        }
      ]
    },
    {
      "cell_type": "code",
      "source": [
        "print(unpaidfivestarreview_df.count())"
      ],
      "metadata": {
        "colab": {
          "base_uri": "https://localhost:8080/"
        },
        "id": "VixN0wuy_iem",
        "outputId": "30d93de0-8695-40e1-86ff-c875cae8d801"
      },
      "execution_count": 27,
      "outputs": [
        {
          "output_type": "stream",
          "name": "stdout",
          "text": [
            "3059846\n"
          ]
        }
      ]
    },
    {
      "cell_type": "code",
      "source": [
        "#  determine the numberof 5-star reviews for the paid reviews\n",
        "\n",
        "\n",
        "paidfivestarreview_df = entirepaidreview_df.filter(entirepaidreview_df[\"star_rating\"]==\"5\")\n",
        "paidfivestarreview_df.show()\n",
        "\n"
      ],
      "metadata": {
        "colab": {
          "base_uri": "https://localhost:8080/"
        },
        "id": "OOYDU-kX5NlE",
        "outputId": "26c48c6b-d7b2-4601-e7e3-40d69b2e0188"
      },
      "execution_count": 26,
      "outputs": [
        {
          "output_type": "stream",
          "name": "stdout",
          "text": [
            "+-----------+-----------+--------------+----------+--------------+--------------------+----------------+-----------+-------------+-----------+----+-----------------+--------------------+--------------------+-----------+\n",
            "|marketplace|customer_id|     review_id|product_id|product_parent|       product_title|product_category|star_rating|helpful_votes|total_votes|vine|verified_purchase|     review_headline|         review_body|review_date|\n",
            "+-----------+-----------+--------------+----------+--------------+--------------------+----------------+-----------+-------------+-----------+----+-----------------+--------------------+--------------------+-----------+\n",
            "|         US|   43450674|R3TQ9HOI4SGLKE|B00C1ZX298|     238990333|Madame Alexander ...|            Toys|          5|            0|          0|   Y|                N|Super Cute! Equal...|Really cute doll,...| 2015-08-31|\n",
            "|         US|   51118641|R3V2Y9NU2GKN0M|B00Y53UVIO|     689858218|VTech Magic Star ...|            Toys|          5|            0|          0|   Y|                N|Baby you can driv...|My Grandson just ...| 2015-08-31|\n",
            "|         US|   53067113| R9I5FOLKU99RY|B00U1KA12G|     278300201|Qixels S1 Turbo D...|            Toys|          5|           19|         20|   Y|                N|11 Year Old Loves...|My daughter who i...| 2015-08-31|\n",
            "|         US|   50224383|R2ZRQEX5P1H9AP|B00TL8UHHS|     823348028|Green Toys Constr...|            Toys|          5|            0|          0|   Y|                N|     Durable and fun|We have several o...| 2015-08-31|\n",
            "|         US|   52917100| R55U7D3J4FHVJ|B00T0JDVA8|     925420808|Dohdles! What is ...|            Toys|          5|            0|          0|   Y|                N|Fun, challenging,...|I'll bet that Doh...| 2015-08-31|\n",
            "|         US|   44759540|R3ED60RC69CCQ6|B00VJKTLMS|     917726757|Fisher-Price Nick...|            Toys|          5|           22|         23|   Y|                N|Lots of fun if yo...|This toy is a kno...| 2015-08-31|\n",
            "|         US|   47887209|R2ZVKU440LEN13|B00QKLLC1O|     146052104|Schleich Dragon F...|            Toys|          5|            0|          0|   Y|                N|Perfect for the d...|The Schleich Drag...| 2015-08-31|\n",
            "|         US|   13825494|R1RWH1BJ7JAT81|B00TFWOXVQ|     623593083|Crayola Color Won...|            Toys|          5|            0|          0|   Y|                N|        So much fun!|My niece and neph...| 2015-08-31|\n",
            "|         US|   50224383|R21ECAILPS2S6R|B00TL8UHOG|     823348028|Green Toys Constr...|            Toys|          5|            0|          0|   Y|                N|     Durable and fun|We have several o...| 2015-08-31|\n",
            "|         US|   50908619|R1WJYFHPPCZ4DE|B00T03UAEY|     551889547|Barbie Pop-Up Cam...|            Toys|          5|            4|          5|   Y|                N|Huge and Lots of ...|Wow!  This is hug...| 2015-08-31|\n",
            "|         US|   50888291|R3EUSL1NBNEW08|B00V0BXP8W|     196790458|Disney Descendant...|            Toys|          5|            2|          2|   Y|                N|At home with our ...|We have quite a f...| 2015-08-31|\n",
            "|         US|   50187529| RM2F3HMFCED4T|B00TVIFZ1Q|     901252756|Nerf Rebelle Secr...|            Toys|          5|            0|          0|   Y|                N|My daughter is Ka...|Although I had so...| 2015-08-31|\n",
            "|         US|   49620639| RNO9QVKZ7AFHU|B00TE8YPDW|     128800679|TOMY Inside Out L...|            Toys|          5|            0|          0|   Y|                N|A lot of personal...|Truly sad: “I’m s...| 2015-08-31|\n",
            "|         US|   52532594| RQGAOKYNF7VR0|B00WBXLCTM|     547752816|ZOOB Z-Strux Scor...|            Toys|          5|            0|          0|   Y|                N|Creative vehicle ...|This set is a dep...| 2015-08-31|\n",
            "|         US|   11906609|R31TC3DA782B00|B00WJ1P6AM|     187200290|LeapFrog LeapFrog...|            Toys|          5|            0|          0|   Y|                N|My son loved his ...|My son loved his ...| 2015-08-31|\n",
            "|         US|   48865425|R1OZGCZFD8AIWP|B00WJ1P5YY|     567025780|LeapFrog LeapRead...|            Toys|          5|            0|          0|   Y|                N|The LeapFrog Leap...|The LeapFrog Leap...| 2015-08-31|\n",
            "|         US|   21084288| RB9EVM1VB25V6|B00WJ1PPGM|     999209932|LeapFrog LeapTV: ...|            Toys|          5|            0|          1|   Y|                N|Fun and education...|We got this game ...| 2015-08-31|\n",
            "|         US|   47817342|R1X4RD8HJCG98Z|B00UC1XYWS|     762654747|Schleich Dinosaur...|            Toys|          5|            0|          0|   Y|                N|Instant hit for d...|Schleich does it ...| 2015-08-31|\n",
            "|         US|   36983626|R10OHANJP08G3F|B00VJKT89O|     956410084|Fisher-Price Thom...|            Toys|          5|            0|          0|   Y|                N|     Great train toy|I have a six year...| 2015-08-31|\n",
            "|         US|   14731867|R1IDFJNTTUEGXM|B00TDP7KKQ|     158155999|Nerf N-Strike Mod...|            Toys|          5|            0|          0|   Y|                N|      Great blaster!|Awesome blaster, ...| 2015-08-31|\n",
            "+-----------+-----------+--------------+----------+--------------+--------------------+----------------+-----------+-------------+-----------+----+-----------------+--------------------+--------------------+-----------+\n",
            "only showing top 20 rows\n",
            "\n"
          ]
        }
      ]
    },
    {
      "cell_type": "code",
      "source": [
        "print(paidfivestarreview_df.count())"
      ],
      "metadata": {
        "colab": {
          "base_uri": "https://localhost:8080/"
        },
        "id": "trltdgWw-JGu",
        "outputId": "eeb8b442-c959-4af0-afe0-5bb54e4e2e32"
      },
      "execution_count": 24,
      "outputs": [
        {
          "output_type": "stream",
          "name": "stdout",
          "text": [
            "17071\n"
          ]
        }
      ]
    },
    {
      "cell_type": "code",
      "source": [
        "#percentage of 5 star reviews for nonvine reviews\n",
        "\n",
        "five_star_percentage_unpaid = ((unpaidfivestarreview_df.count()) / (entirenotpaidreview_df.count()))\n",
        "\n",
        "print(five_star_percentage_unpaid)\n"
      ],
      "metadata": {
        "colab": {
          "base_uri": "https://localhost:8080/"
        },
        "id": "5O6V4noSB3ch",
        "outputId": "f41581b1-b9e1-422a-e486-055ac779ee8e"
      },
      "execution_count": 37,
      "outputs": [
        {
          "output_type": "stream",
          "name": "stdout",
          "text": [
            "0.6345058319412211\n"
          ]
        }
      ]
    },
    {
      "cell_type": "code",
      "source": [
        "#percentage of 5 star reviews for vine reviews\n",
        "\n",
        "five_star_percentage_paid = ((paidfivestarreview_df.count()) / (entirepaidreview_df.count()))\n",
        "\n",
        "print(five_star_percentage_paid)"
      ],
      "metadata": {
        "colab": {
          "base_uri": "https://localhost:8080/"
        },
        "id": "LJd0ecfNDIlL",
        "outputId": "56b2036d-ad05-402d-d01a-7e2aeff1835d"
      },
      "execution_count": 38,
      "outputs": [
        {
          "output_type": "stream",
          "name": "stdout",
          "text": [
            "0.40805545595792997\n"
          ]
        }
      ]
    },
    {
      "cell_type": "code",
      "source": [
        ""
      ],
      "metadata": {
        "id": "cre_g4-IB8yJ"
      },
      "execution_count": null,
      "outputs": []
    }
  ]
}